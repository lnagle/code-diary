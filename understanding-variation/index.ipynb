{
 "cells": [
  {
   "cell_type": "code",
   "execution_count": null,
   "metadata": {},
   "outputs": [],
   "source": [
    "import statistics\n",
    "\n",
    "def xmr_data_from_median(data):\n",
    "  average = sum(data) / len(data)\n",
    "\n",
    "  moving_ranges = []\n",
    "\n",
    "  for i in range(i, len(data)):\n",
    "    moving_ranges.append(abs(data[i - 1] - data[i]))\n",
    "\n",
    "  median_moving_range = statistics.median(moving_ranges)\n",
    "\n",
    "  # How to handle situations where there's a natural floor or ceiling?\n",
    "  upper_natural_process_limit = average + (3.14 * median_moving_range)\n",
    "  lower_natural_process_limit = average - (3.14 * median_moving_range) \n",
    "  \n",
    "  upper_range_limit = 3.87 * median_moving_range \n",
    "\n",
    "  return (\n",
    "    upper_natural_process_limit,\n",
    "    lower_natural_process_limit,\n",
    "    upper_range_limit\n",
    "  )\n"
   ]
  },
  {
   "cell_type": "code",
   "execution_count": 1,
   "metadata": {},
   "outputs": [
    {
     "ename": "ModuleNotFoundError",
     "evalue": "No module named 'matplotlib'",
     "output_type": "error",
     "traceback": [
      "\u001b[0;31m---------------------------------------------------------------------------\u001b[0m",
      "\u001b[0;31mModuleNotFoundError\u001b[0m                       Traceback (most recent call last)",
      "Cell \u001b[0;32mIn[1], line 1\u001b[0m\n\u001b[0;32m----> 1\u001b[0m \u001b[38;5;28;01mimport\u001b[39;00m \u001b[38;5;21;01mmatplotlib\u001b[39;00m\u001b[38;5;21;01m.\u001b[39;00m\u001b[38;5;21;01mpyplot\u001b[39;00m \u001b[38;5;28;01mas\u001b[39;00m \u001b[38;5;21;01mplt\u001b[39;00m\n\u001b[1;32m      3\u001b[0m sample_data \u001b[38;5;241m=\u001b[39m [\u001b[38;5;241m10\u001b[39m, \u001b[38;5;241m11\u001b[39m, \u001b[38;5;241m15\u001b[39m, \u001b[38;5;241m13\u001b[39m, \u001b[38;5;241m12\u001b[39m, \u001b[38;5;241m9\u001b[39m, \u001b[38;5;241m9\u001b[39m, \u001b[38;5;241m20\u001b[39m, \u001b[38;5;241m13\u001b[39m, \u001b[38;5;241m11\u001b[39m]\n\u001b[1;32m      5\u001b[0m plt\u001b[38;5;241m.\u001b[39mplot(sample_data)\n",
      "\u001b[0;31mModuleNotFoundError\u001b[0m: No module named 'matplotlib'"
     ]
    }
   ],
   "source": [
    "import matplotlib.pyplot as plt\n",
    "\n",
    "sample_data = [10, 11, 15, 13, 12, 9, 9, 20, 13, 11]\n",
    "\n",
    "plt.plot(sample_data)\n",
    "plt.show()"
   ]
  }
 ],
 "metadata": {
  "kernelspec": {
   "display_name": "Python 3",
   "language": "python",
   "name": "python3"
  },
  "language_info": {
   "codemirror_mode": {
    "name": "ipython",
    "version": 3
   },
   "file_extension": ".py",
   "mimetype": "text/x-python",
   "name": "python",
   "nbconvert_exporter": "python",
   "pygments_lexer": "ipython3",
   "version": "3.9.6"
  }
 },
 "nbformat": 4,
 "nbformat_minor": 2
}
